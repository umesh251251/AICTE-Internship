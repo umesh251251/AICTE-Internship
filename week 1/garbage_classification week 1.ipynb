{
 "cells": [
  {
   "cell_type": "code",
   "execution_count": null,
   "id": "b0caa823",
   "metadata": {},
   "outputs": [],
   "source": [
    "import numpy as np\n",
    "import pandas as pd\n",
    "import os\n",
    "import cv2\n",
    "import matplotlib.pyplot as plt\n",
    "import seaborn as sns\n",
    "import tensorflow as tf\n",
    "import keras \n",
    "from tqdm import tqdm\n",
    "from keras.callbacks import EarlyStopping,ModelCheckpoint\n",
    "from sklearn.metrics import confusion_matrix , accuracy_score\n",
    "from sklearn.metrics import classification_report\n",
    "from sklearn.model_selection import train_test_split\n",
    "from sklearn.preprocessing import LabelEncoder\n",
    "import glob \n",
    "import pandas as pan\n",
    "import matplotlib.pyplot as plotter\n",
    "import warnings\n",
    "warnings.filterwarnings('ignore')"
   ]
  },
  {
   "cell_type": "code",
   "execution_count": null,
   "id": "3787ae65",
   "metadata": {},
   "outputs": [],
   "source": [
    "#Create Files_Name\n",
    "image_data= 'garbage_classification'\n",
    "pd.DataFrame(os.listdir(image_data),columns=['Files_Name'])"
   ]
  },
  {
   "cell_type": "code",
   "execution_count": null,
   "id": "f7195dc3",
   "metadata": {},
   "outputs": [],
   "source": [
    "files = [i for i in glob.glob(image_data + \"//*//*\")]\n",
    "np.random.shuffle(files)\n",
    "labels = [os.path.dirname(i).split(\"/\")[-1] for i in files]\n",
    "data = zip(files, labels)\n",
    "dataframe = pan.DataFrame(data, columns = [\"Image\", \"Label\"])\n",
    "dataframe"
   ]
  },
  {
   "cell_type": "code",
   "execution_count": null,
   "id": "6cf77653",
   "metadata": {},
   "outputs": [],
   "source": [
    "sns.countplot(x = dataframe[\"Label\"])\n",
    "plotter.xticks(rotation = 50);"
   ]
  }
 ],
 "metadata": {
  "kernelspec": {
   "display_name": "Python 3",
   "language": "python",
   "name": "python3"
  },
  "language_info": {
   "name": "python",
   "version": "3.13.2"
  }
 },
 "nbformat": 4,
 "nbformat_minor": 5
}
